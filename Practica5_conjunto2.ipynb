{
 "cells": [
  {
   "cell_type": "code",
   "execution_count": null,
   "metadata": {},
   "outputs": [],
   "source": [
    "Práctica 5: primer modelo de clasificación n-dimensional\n",
    "Hay muchas técnicas diferentes para encontrar las características más relevantes, ¿cómo saber cuál usar?. Un enfoque sólido consiste en evaluar los modelos utilizando diferentes métodos, y seleccionar el método que resulte en un modelo con el mejor rendimiento.\n",
    "\n",
    "En esta sección, evaluaremos un modelo de Regresión Logística con todas las características en comparación con un modelo construido a partir de características seleccionadas por chi-cuadrado y aquellas características seleccionadas a través de información mutua. La regresión logística es un buen modelo para probar los métodos de selección de características, ya que puede tener un mejor rendimiento si se eliminan del modelo las características irrelevantes.\n",
    "\n",
    "Buscando el modelo de clasificación con todas las características\n",
    "Como primer paso, evaluaremos un modelo de LogisticRegression utilizando todas las características disponibles. El modelo se genera dado el conjunto de datos de entrenamiento (train) y se evalúa con el conjunto de datos de prueba (test).\n",
    "\n",
    "Nota: los resultados pueden variar dada la naturaleza estocástica del algoritmo de aprendizaje. Intenta ejecutar el ejemplo varias veces.\n",
    "\n",
    "Imports"
   ]
  },
  {
   "cell_type": "code",
   "execution_count": 1,
   "metadata": {},
   "outputs": [],
   "source": [
    "import pandas as pd\n",
    "import numpy as np\n",
    "from pandas import read_csv\n",
    "import matplotlib.pyplot as plt\n",
    "from sklearn.preprocessing import LabelEncoder\n",
    "from sklearn.preprocessing import OrdinalEncoder\n",
    "from sklearn.feature_selection import SelectKBest\n",
    "from sklearn.feature_selection import chi2\n",
    "from sklearn.feature_selection import mutual_info_classif\n",
    "from sklearn.model_selection import train_test_split\n",
    "from sklearn.linear_model import LogisticRegression\n",
    "from sklearn.metrics import accuracy_score"
   ]
  },
  {
   "cell_type": "code",
   "execution_count": null,
   "metadata": {},
   "outputs": [],
   "source": [
    "Nota: antes de implementar los siguientes métodos, debemos asegurarnos de que el DataFrame sólo contiene características categóricas."
   ]
  },
  {
   "cell_type": "code",
   "execution_count": 2,
   "metadata": {},
   "outputs": [],
   "source": [
    "file = \"conjunto_de_datos_visita_museos_2018.csv\"\n",
    "df = pd.read_csv(file)\n",
    "df = df.dropna(axis=1)\n",
    "names = ['ANIO_ESTAD', 'ENT_REGIS', 'MES_ENTREV', 'DIA_ENTREV', 'SEXO', 'EDAD',\n",
    "       'ENT_RESID', 'MUN_RESID', 'PAIS_RESID', 'NACIONALID', 'PAIS_EXTRA',\n",
    "       'ESCOLARIDA', 'OCUPACION', 'LENGUA_1', 'ESTIM_FAM', 'PRIM_VISIT',\n",
    "       'VIS_OTROS', 'MEDIO_1', 'PLAN_VISIT', 'MV_ACOMP', 'MV_CULTURA',\n",
    "       'MV_APREND', 'MV_ESCOLAR', 'MV_LABORAL', 'MV_CONOCER', 'MV_ENTRETE',\n",
    "       'MV_EDIFICI', 'MV_TALLER', 'MV_OTRO', 'MEDIO_TRAN', 'TIEMPO_TRA',\n",
    "       'TIPO_ENTRA', 'PAV_NADIE', 'PAV_FAMILI', 'PAV_PAREJA', 'PAV_AMIGO',\n",
    "       'PAV_COMPA', 'PAV_ESCOLA', 'PAV_TURIST', 'PAV_OTRO', 'SU_SALAS',\n",
    "       'SU_TIENDA', 'SU_VISGUIA', 'SU_AUDIOG', 'SU_TALLER', 'SU_ACADEM',\n",
    "       'SU_ACULTUR', 'SU_BIBLIOT', 'SU_ARCHIVO', 'SU_SILLA', 'SU_OTRO',\n",
    "       'OPIN_EXPOS', 'DUR_VIS_H', 'DUR_VIS_M', 'REPETIR_VI', 'RECOMIE_VI',\n",
    "       'EVAL_GRAL', 'M_NOVIS_1']\n",
    "df = df.astype(int)\n",
    "for i in names :\n",
    "    #print(len(df[i].unique()))\n",
    "    if(len(df[i].unique()) == 2):\n",
    "        x =(df[i].unique())\n",
    "        df[i].replace({\n",
    "            x[0] : \"a\",\n",
    "            x[1] : \"b\"\n",
    "        }, inplace=True)\n",
    "    if(len(df[i].unique()) == 3):\n",
    "        x =(df[i].unique())\n",
    "        df[i].replace({\n",
    "            x[0] : \"a\",\n",
    "            x[1] : \"b\",\n",
    "            x[2] : \"c\"\n",
    "        }, inplace=True)\n",
    "    if(len(df[i].unique()) > 3):\n",
    "        bins=np.linspace(min(df[i]),max(df[i]),4)\n",
    "        names=[\"a\",\"b\",\"c\"]\n",
    "        df[i]=pd.cut(df[i],bins,labels=names)\n",
    "df = df.dropna(axis = 1)\n",
    "df = df.drop(\"ANIO_ESTAD\", 1)\n",
    "X = df.drop(\"SEXO\",1)\n",
    "y = df[\"SEXO\"]\n",
    "df = pd.concat([X, y], axis = 1)\n",
    "df.to_csv(\"Archivo.csv\", header = True, index = False)"
   ]
  },
  {
   "cell_type": "code",
   "execution_count": 3,
   "metadata": {},
   "outputs": [],
   "source": [
    "#Cargamos el dataset\n",
    "def load_dataset(filename):\n",
    "    #Como un Dataframe\n",
    "    data = read_csv(filename, header=None)\n",
    "    #Creamos una matriz con los datos\n",
    "    dataset = data.values\n",
    "    #Dividimos en X y y\n",
    "    X = dataset[:, :-1]\n",
    "    y = dataset[:,-1]\n",
    "    #Forzamos el tipo string\n",
    "    X = X.astype(str)\n",
    "    return X, y\n",
    " \n",
    "#Preparamos los datos de entrada, X\n",
    "def prepare_inputs(X_train, X_test):\n",
    "    oe = OrdinalEncoder()\n",
    "    oe.fit(X_train)\n",
    "    X_train_enc = oe.transform(X_train)\n",
    "    oe.fit(X_test)\n",
    "    X_test_enc = oe.transform(X_test)\n",
    "    return X_train_enc, X_test_enc\n",
    " \n",
    "#Preparamos los datos de salida, y\n",
    "def prepare_targets(y_train, y_test):\n",
    "    le = LabelEncoder()\n",
    "    le.fit(y_train)\n",
    "    y_train_enc = le.transform(y_train)\n",
    "    le.fit(y_test)\n",
    "    y_test_enc = le.transform(y_test)\n",
    "    return y_train_enc, y_test_enc"
   ]
  },
  {
   "cell_type": "code",
   "execution_count": 4,
   "metadata": {},
   "outputs": [
    {
     "name": "stderr",
     "output_type": "stream",
     "text": [
      "C:\\Users\\Zobeida\\Anaconda2\\lib\\site-packages\\sklearn\\linear_model\\logistic.py:460: FutureWarning: Default multi_class will be changed to 'auto' in 0.22. Specify the multi_class option to silence this warning.\n",
      "  \"this warning.\", FutureWarning)\n",
      "C:\\Users\\Zobeida\\Anaconda2\\lib\\site-packages\\sklearn\\linear_model\\logistic.py:758: ConvergenceWarning: lbfgs failed to converge. Increase the number of iterations.\n",
      "  \"of iterations.\", ConvergenceWarning)\n"
     ]
    },
    {
     "name": "stdout",
     "output_type": "stream",
     "text": [
      "('Accuracy/exactitud: 32.75', '%')\n"
     ]
    }
   ],
   "source": [
    "#Cargamos el dataset\n",
    "file = \"Archivo.csv\"\n",
    "X, y = load_dataset(file)\n",
    "\n",
    "#Dividimos los datos de entrada, X, y salida, y\n",
    "X_train, X_test, y_train, y_test = train_test_split(X, y, test_size=0.33, random_state=1)\n",
    "#Preparamos a X\n",
    "X_train_enc, X_test_enc = prepare_inputs(X_train, X_test)\n",
    "#Preparamos ay\n",
    "y_train_enc, y_test_enc = prepare_targets(y_train, y_test)\n",
    "\n",
    "#Buscamos el modelo\n",
    "model = LogisticRegression(solver='lbfgs')\n",
    "model.fit(X_train_enc, y_train_enc)\n",
    "\n",
    "#Encontramos el modelo\n",
    "yhat = model.predict(X_test_enc)\n",
    "\n",
    "#Evaluamos el desempeño del modelo encontrado\n",
    "accuracy = accuracy_score(y_test_enc, yhat)\n",
    "print('Accuracy/exactitud: %.2f' % (accuracy*100), '%')\n"
   ]
  },
  {
   "cell_type": "code",
   "execution_count": null,
   "metadata": {},
   "outputs": [],
   "source": [
    "Buscando el modelo de clasificación con selección de características vía Chi-cuadrada"
   ]
  },
  {
   "cell_type": "code",
   "execution_count": 5,
   "metadata": {},
   "outputs": [],
   "source": [
    "#Selección de características\n",
    "def select_features(X_train, y_train, X_test):\n",
    "    fs = SelectKBest(score_func=chi2, k=4)\n",
    "    fs.fit(X_train, y_train)\n",
    "    X_train_fs = fs.transform(X_train)\n",
    "    X_test_fs = fs.transform(X_test)\n",
    "    \n",
    "    for i in range(len(fs.scores_)):\n",
    "        print('Característica %d: %f' % (i, fs.scores_[i]))\n",
    "    \n",
    "    plt.bar([i for i in range(len(fs.scores_))], fs.scores_)\n",
    "    return X_train_fs, X_test_fs"
   ]
  },
  {
   "cell_type": "code",
   "execution_count": 6,
   "metadata": {},
   "outputs": [
    {
     "name": "stdout",
     "output_type": "stream",
     "text": [
      "Característica 0: 1.529338\n",
      "Característica 1: 1.300473\n",
      "Característica 2: 4.937005\n",
      "Característica 3: 7.260486\n",
      "Característica 4: 2.551268\n",
      "Característica 5: 5.196306\n",
      "Característica 6: 1.785974\n",
      "Característica 7: 8.957263\n",
      "Característica 8: 3.118490\n",
      "Característica 9: 4.522414\n",
      "Característica 10: 1.467200\n",
      "Característica 11: 1.432662\n",
      "Característica 12: 1.625090\n",
      "Característica 13: 3.628840\n",
      "Característica 14: 1.553032\n",
      "Característica 15: 1.009721\n",
      "Característica 16: 2.012231\n",
      "Característica 17: 29.240811\n",
      "Característica 18: 62.312828\n",
      "Característica 19: 12.904847\n",
      "Característica 20: 1.272791\n",
      "Característica 21: 1.429136\n",
      "Característica 22: 1.244081\n",
      "Característica 23: 1.087693\n",
      "Característica 24: 2.086943\n",
      "Característica 25: 1.400693\n",
      "Característica 26: 1.173254\n",
      "Característica 27: 4.429956\n",
      "Característica 28: 1.031778\n",
      "Característica 29: 5.145648\n",
      "Característica 30: 1.017344\n",
      "Característica 31: 1.053569\n",
      "Característica 32: 1.050230\n",
      "Característica 33: 1.147077\n",
      "Característica 34: 1.004253\n",
      "Característica 35: 1.051052\n",
      "Característica 36: 1.041642\n",
      "('Accuracy/exactitud: 46.50', '%')\n"
     ]
    },
    {
     "data": {
      "image/png": "[encoded data removed]",
      "text/plain": [
       "<Figure size 432x288 with 1 Axes>"
      ]
     },
     "metadata": {
      "needs_background": "light"
     },
     "output_type": "display_data"
    }
   ],
   "source": [
    "#Cargamos el dataset\n",
    "file = \"Archivo.csv\"\n",
    "X, y = load_dataset(file)\n",
    "\n",
    "#Dividimos los datos de entrada, X, y salida, y\n",
    "X_train, X_test, y_train, y_test = train_test_split(X, y, test_size=0.33, random_state=1)\n",
    "#Preparamos a X\n",
    "X_train_enc, X_test_enc = prepare_inputs(X_train, X_test)\n",
    "#Preparamos a y\n",
    "y_train_enc, y_test_enc = prepare_targets(y_train, y_test)\n",
    "#Selección de características\n",
    "X_train_fs, X_test_fs = select_features(X_train_enc, y_train_enc, X_test_enc)\n",
    "\n",
    "#Buscamos el modelo\n",
    "model = LogisticRegression(solver='lbfgs')\n",
    "model.fit(X_train_fs, y_train_enc)\n",
    "\n",
    "#Encontramos el modelo\n",
    "yhat = model.predict(X_test_fs)\n",
    "\n",
    "#Evaluamos el desempeño del modelo encontrado\n",
    "accuracy = accuracy_score(y_test_enc, yhat)\n",
    "print('Accuracy/exactitud: %.2f' % (accuracy*100), '%')"
   ]
  },
  {
   "cell_type": "code",
   "execution_count": null,
   "metadata": {},
   "outputs": [],
   "source": [
    "Buscando el modelo de clasificación con selección de características vía Información Mutua"
   ]
  },
  {
   "cell_type": "code",
   "execution_count": 7,
   "metadata": {},
   "outputs": [],
   "source": [
    "#Selección de características\n",
    "def select_features(X_train, y_train, X_test):\n",
    "    fs = SelectKBest(score_func=mutual_info_classif, k=4)\n",
    "    fs.fit(X_train, y_train)\n",
    "    X_train_fs = fs.transform(X_train)\n",
    "    X_test_fs = fs.transform(X_test)\n",
    "    \n",
    "    for i in range(len(fs.scores_)):\n",
    "        print('Característica %d: %f' % (i, fs.scores_[i]))\n",
    "    \n",
    "    plt.bar([i for i in range(len(fs.scores_))], fs.scores_)\n",
    "    return X_train_fs, X_test_fs"
   ]
  },
  {
   "cell_type": "code",
   "execution_count": 8,
   "metadata": {},
   "outputs": [
    {
     "name": "stdout",
     "output_type": "stream",
     "text": [
      "Característica 0: 0.008209\n",
      "Característica 1: 0.013359\n",
      "Característica 2: 0.012455\n",
      "Característica 3: 0.004457\n",
      "Característica 4: 0.007541\n",
      "Característica 5: 0.007794\n",
      "Característica 6: 0.009252\n",
      "Característica 7: 0.008278\n",
      "Característica 8: 0.009252\n",
      "Característica 9: 0.010794\n",
      "Característica 10: 0.015678\n",
      "Característica 11: 0.005973\n",
      "Característica 12: 0.007842\n",
      "Característica 13: 0.011456\n",
      "Característica 14: 0.014608\n",
      "Característica 15: 0.011211\n",
      "Característica 16: 0.007814\n",
      "Característica 17: 0.011959\n",
      "Característica 18: 0.007556\n",
      "Característica 19: 0.007859\n",
      "Característica 20: 0.008395\n",
      "Característica 21: 0.012165\n",
      "Característica 22: 0.012675\n",
      "Característica 23: 0.014804\n",
      "Característica 24: 0.012792\n",
      "Característica 25: 0.013986\n",
      "Característica 26: 0.008107\n",
      "Característica 27: 0.007239\n",
      "Característica 28: 0.012575\n",
      "Característica 29: 0.012615\n",
      "Característica 30: 0.016820\n",
      "Característica 31: 0.011913\n",
      "Característica 32: 0.013880\n",
      "Característica 33: 0.013509\n",
      "Característica 34: 0.010327\n",
      "Característica 35: 0.013272\n",
      "Característica 36: 0.012078\n",
      "('Accuracy/exactitud: 45.22', '%')\n"
     ]
    },
    {
     "data": {
      "image/png": "[encoded data removed]",
      "text/plain": [
       "<Figure size 432x288 with 1 Axes>"
      ]
     },
     "metadata": {
      "needs_background": "light"
     },
     "output_type": "display_data"
    }
   ],
   "source": [
    "#Cargamos el dataset\n",
    "file = \"Archivo.csv\"\n",
    "X, y = load_dataset(file)\n",
    "\n",
    "#Dividimos los datos de entrada, X, y salida, y\n",
    "X_train, X_test, y_train, y_test = train_test_split(X, y, test_size=0.33, random_state=1)\n",
    "#Preparamos a X\n",
    "X_train_enc, X_test_enc = prepare_inputs(X_train, X_test)\n",
    "#Preparamos a y\n",
    "y_train_enc, y_test_enc = prepare_targets(y_train, y_test)\n",
    "#Selección de características\n",
    "X_train_fs, X_test_fs = select_features(X_train_enc, y_train_enc, X_test_enc)\n",
    "\n",
    "#Buscamos el modelo\n",
    "model = LogisticRegression(solver='lbfgs')\n",
    "model.fit(X_train_fs, y_train_enc)\n",
    "\n",
    "#Encontramos el modelo\n",
    "yhat = model.predict(X_test_fs)\n",
    "\n",
    "#Evaluamos el desempeño del modelo encontrado\n",
    "accuracy = accuracy_score(y_test_enc, yhat)\n",
    "print('Accuracy/exactitud: %.2f' % (accuracy*100), '%')"
   ]
  }
 ],
 "metadata": {
  "kernelspec": {
   "display_name": "Python 2",
   "language": "python",
   "name": "python2"
  },
  "language_info": {
   "codemirror_mode": {
    "name": "ipython",
    "version": 2
   },
   "file_extension": ".py",
   "mimetype": "text/x-python",
   "name": "python",
   "nbconvert_exporter": "python",
   "pygments_lexer": "ipython2",
   "version": "2.7.16"
  }
 },
 "nbformat": 4,
 "nbformat_minor": 2
}
